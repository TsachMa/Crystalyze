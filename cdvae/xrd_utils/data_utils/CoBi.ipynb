{
 "cells": [
  {
   "cell_type": "code",
   "execution_count": 3,
   "metadata": {},
   "outputs": [],
   "source": [
    "import pandas as pd\n",
    "import numpy as np\n",
    "import matplotlib.pyplot as plt\n",
    "import torch\n",
    "import os\n",
    "from tqdm import tqdm\n",
    "from scipy.interpolate import UnivariateSpline\n",
    "from numpy.polynomial import chebyshev\n",
    "from scipy import optimize\n",
    "from math import pi\n",
    "\n",
    "import sys\n",
    "sys.path.append('../')\n",
    "\n",
    "import unknown_utils\n",
    "import importlib"
   ]
  },
  {
   "cell_type": "code",
   "execution_count": 4,
   "metadata": {},
   "outputs": [],
   "source": [
    "dir = \"/home/gridsan/tmackey/cdvae/scripts/XRD_CDVAE/Freedman_Lab_Compounds/CoBi\""
   ]
  },
  {
   "cell_type": "code",
   "execution_count": 5,
   "metadata": {},
   "outputs": [],
   "source": [
    "import os\n",
    "\n",
    "def rename_files(directory):\n",
    "    # Define a mapping of old to new prefixes\n",
    "    name_mapping = {\n",
    "        'CoBi': 'Fa_Co_Bi',\n",
    "    }\n",
    "\n",
    "    for filename in os.listdir(directory):\n",
    "        if filename.endswith(\".xy\"):\n",
    "            # Extract the prefix and the rest of the filename\n",
    "            prefix, suffix = filename.split('_', 1)\n",
    "            if prefix in name_mapping:\n",
    "                new_filename = f\"{name_mapping[prefix]}_{suffix}\"\n",
    "                old_path = os.path.join(directory, filename)\n",
    "                new_path = os.path.join(directory, new_filename)\n",
    "                os.rename(old_path, new_path)\n",
    "                print(f\"Renamed {filename} to {new_filename}\")\n",
    "\n",
    "rename_files(dir)"
   ]
  },
  {
   "cell_type": "code",
   "execution_count": null,
   "metadata": {},
   "outputs": [],
   "source": [
    "CoBi_1 = pd.read_csv(os.path.join(dir, filename), sep='\\s+', header=None)\n",
    "column_names = list(CoBi_1.columns)\n",
    "CoBi_1[column_names[0]]  = CoBi_1[column_names[0]]  *  1.5406 / 0.406626\n",
    "#save the data\n",
    "CoBi_1.to_csv(os.path.join(dir, filename), sep=' ', header=False, index=False)"
   ]
  },
  {
   "cell_type": "code",
   "execution_count": 23,
   "metadata": {},
   "outputs": [
    {
     "name": "stdout",
     "output_type": "stream",
     "text": [
      "pv_xrd_dict_0.pt\n",
      "Fa_Co_Bi_4.xy\n",
      "['Co', 'Bi']\n"
     ]
    }
   ],
   "source": [
    "dictionary_of_cifs = unknown_utils.stoichioemtry_extraction(dir)"
   ]
  },
  {
   "cell_type": "code",
   "execution_count": 24,
   "metadata": {},
   "outputs": [
    {
     "data": {
      "text/plain": [
       "{'Fa_Co_Bi_4.xy': [\"# generated using pymatgen\\ndata_CoBi\\n_symmetry_space_group_name_H-M   'P 1'\\n_cell_length_a   3.56007511\\n_cell_length_b   3.56007511\\n_cell_length_c   3.56007511\\n_cell_angle_alpha   90.00000000\\n_cell_angle_beta   90.00000000\\n_cell_angle_gamma   90.00000000\\n_symmetry_Int_Tables_number   1\\n_chemical_formula_structural   CoBi\\n_chemical_formula_sum   'Co1 Bi1'\\n_cell_volume   45.12087192\\n_cell_formula_units_Z   1\\nloop_\\n _symmetry_equiv_pos_site_id\\n _symmetry_equiv_pos_as_xyz\\n  1  'x, y, z'\\nloop_\\n _atom_site_type_symbol\\n _atom_site_label\\n _atom_site_symmetry_multiplicity\\n _atom_site_fract_x\\n _atom_site_fract_y\\n _atom_site_fract_z\\n _atom_site_occupancy\\n  Co  Co0  1  0.11783776  0.53057610  0.59352850  1\\n  Bi  Bi1  1  0.75564674  0.96530671  0.15544256  1\\n\"]}"
      ]
     },
     "execution_count": 24,
     "metadata": {},
     "output_type": "execute_result"
    }
   ],
   "source": [
    "dictionary_of_cifs"
   ]
  },
  {
   "cell_type": "code",
   "execution_count": 25,
   "metadata": {},
   "outputs": [
    {
     "name": "stdout",
     "output_type": "stream",
     "text": [
      "Fa_Co_Bi_4.xy\n",
      "# generated using pymatgen\n",
      "data_CoBi\n",
      "_symmetry_space_group_name_H-M   'P 1'\n",
      "_cell_length_a   3.56007511\n",
      "_cell_length_b   3.56007511\n",
      "_cell_length_c   3.56007511\n",
      "_cell_angle_alpha   90.00000000\n",
      "_cell_angle_beta   90.00000000\n",
      "_cell_angle_gamma   90.00000000\n",
      "_symmetry_Int_Tables_number   1\n",
      "_chemical_formula_structural   CoBi\n",
      "_chemical_formula_sum   'Co1 Bi1'\n",
      "_cell_volume   45.12087192\n",
      "_cell_formula_units_Z   1\n",
      "loop_\n",
      " _symmetry_equiv_pos_site_id\n",
      " _symmetry_equiv_pos_as_xyz\n",
      "  1  'x, y, z'\n",
      "loop_\n",
      " _atom_site_type_symbol\n",
      " _atom_site_label\n",
      " _atom_site_symmetry_multiplicity\n",
      " _atom_site_fract_x\n",
      " _atom_site_fract_y\n",
      " _atom_site_fract_z\n",
      " _atom_site_occupancy\n",
      "  Co  Co0  1  0.11783776  0.53057610  0.59352850  1\n",
      "  Bi  Bi1  1  0.75564674  0.96530671  0.15544256  1\n",
      "\n"
     ]
    }
   ],
   "source": [
    "index = 0\n",
    "keyvalue = list(dictionary_of_cifs.keys())[index]\n",
    "print(keyvalue)\n",
    "print(dictionary_of_cifs[keyvalue][0])"
   ]
  },
  {
   "cell_type": "code",
   "execution_count": 26,
   "metadata": {},
   "outputs": [],
   "source": [
    "df = unknown_utils.create_dataframe(dictionary_of_cifs)"
   ]
  },
  {
   "cell_type": "code",
   "execution_count": 27,
   "metadata": {},
   "outputs": [
    {
     "data": {
      "text/html": [
       "<div>\n",
       "<style scoped>\n",
       "    .dataframe tbody tr th:only-of-type {\n",
       "        vertical-align: middle;\n",
       "    }\n",
       "\n",
       "    .dataframe tbody tr th {\n",
       "        vertical-align: top;\n",
       "    }\n",
       "\n",
       "    .dataframe thead th {\n",
       "        text-align: right;\n",
       "    }\n",
       "</style>\n",
       "<table border=\"1\" class=\"dataframe\">\n",
       "  <thead>\n",
       "    <tr style=\"text-align: right;\">\n",
       "      <th></th>\n",
       "      <th>cif</th>\n",
       "      <th>filename</th>\n",
       "      <th>material_id</th>\n",
       "      <th>formation_energy_per_atom</th>\n",
       "      <th>spacegroup.number</th>\n",
       "      <th>xrd_peak_intensities</th>\n",
       "      <th>xrd_peak_locations</th>\n",
       "      <th>disc_sim_xrd</th>\n",
       "      <th>atomic_numbers</th>\n",
       "    </tr>\n",
       "  </thead>\n",
       "  <tbody>\n",
       "    <tr>\n",
       "      <th>0</th>\n",
       "      <td># generated using pymatgen\\ndata_CoBi\\n_symmet...</td>\n",
       "      <td>Fa_Co_Bi_4.xy</td>\n",
       "      <td>Fa_Co_Bi_4_1x</td>\n",
       "      <td>0</td>\n",
       "      <td>0</td>\n",
       "      <td>[0, 0, 0, 0, 0, 0, 0, 0, 0, 0, 0, 0, 0, 0, 0, ...</td>\n",
       "      <td>[0, 0, 0, 0, 0, 0, 0, 0, 0, 0, 0, 0, 0, 0, 0, ...</td>\n",
       "      <td>[0, 0, 0, 0, 0, 0, 0, 0, 0, 0, 0, 0, 0, 0, 0, ...</td>\n",
       "      <td>[27, 83]</td>\n",
       "    </tr>\n",
       "  </tbody>\n",
       "</table>\n",
       "</div>"
      ],
      "text/plain": [
       "                                                 cif       filename  \\\n",
       "0  # generated using pymatgen\\ndata_CoBi\\n_symmet...  Fa_Co_Bi_4.xy   \n",
       "\n",
       "     material_id  formation_energy_per_atom  spacegroup.number  \\\n",
       "0  Fa_Co_Bi_4_1x                          0                  0   \n",
       "\n",
       "                                xrd_peak_intensities  \\\n",
       "0  [0, 0, 0, 0, 0, 0, 0, 0, 0, 0, 0, 0, 0, 0, 0, ...   \n",
       "\n",
       "                                  xrd_peak_locations  \\\n",
       "0  [0, 0, 0, 0, 0, 0, 0, 0, 0, 0, 0, 0, 0, 0, 0, ...   \n",
       "\n",
       "                                        disc_sim_xrd atomic_numbers  \n",
       "0  [0, 0, 0, 0, 0, 0, 0, 0, 0, 0, 0, 0, 0, 0, 0, ...       [27, 83]  "
      ]
     },
     "execution_count": 27,
     "metadata": {},
     "output_type": "execute_result"
    }
   ],
   "source": [
    "df"
   ]
  },
  {
   "cell_type": "code",
   "execution_count": 28,
   "metadata": {},
   "outputs": [
    {
     "name": "stdout",
     "output_type": "stream",
     "text": [
      "start index:  0\n",
      "end index:  1\n",
      "total length:  1\n"
     ]
    },
    {
     "name": "stderr",
     "output_type": "stream",
     "text": [
      "  0%|          | 0/1 [00:00<?, ?it/s]"
     ]
    },
    {
     "name": "stdout",
     "output_type": "stream",
     "text": [
      "This model may perform poorly on data with a complicated background\n"
     ]
    },
    {
     "name": "stderr",
     "output_type": "stream",
     "text": [
      "100%|██████████| 1/1 [00:00<00:00,  4.78it/s]\n"
     ]
    }
   ],
   "source": [
    "unknown_utils.create_xrd_test_data(dir, df)"
   ]
  },
  {
   "cell_type": "code",
   "execution_count": 29,
   "metadata": {},
   "outputs": [],
   "source": [
    "xrd_adjusted = torch.load(os.path.join(dir, \"pv_xrd_dict_0.pt\"))"
   ]
  },
  {
   "cell_type": "code",
   "execution_count": 30,
   "metadata": {},
   "outputs": [
    {
     "name": "stdout",
     "output_type": "stream",
     "text": [
      "Fa_Co_Bi_4.xy\n"
     ]
    }
   ],
   "source": [
    "pv_xrd_for_testing = unknown_utils.create_xrd_for_testing(xrd_adjusted, df)"
   ]
  },
  {
   "cell_type": "code",
   "execution_count": 31,
   "metadata": {},
   "outputs": [
    {
     "name": "stdout",
     "output_type": "stream",
     "text": [
      "Fa_Co_Bi_4.xy\n"
     ]
    },
    {
     "data": {
      "image/png": "[encoded data removed]",
      "text/plain": [
       "<Figure size 640x480 with 1 Axes>"
      ]
     },
     "metadata": {},
     "output_type": "display_data"
    }
   ],
   "source": [
    "for filename in os.listdir(dir):\n",
    "    if \".xy\" in filename: \n",
    "        #load in the original Ti_Bi data\n",
    "        print(filename)\n",
    "        ti_bi_1 = pd.read_csv(os.path.join(dir, filename), sep='\\s+', header=None)\n",
    "        column_names = list(ti_bi_1.columns)\n",
    "        plt.plot(ti_bi_1[column_names[0]], ti_bi_1[column_names[1]], label = filename)\n",
    "        plt.show()"
   ]
  },
  {
   "cell_type": "code",
   "execution_count": 32,
   "metadata": {},
   "outputs": [
    {
     "name": "stdout",
     "output_type": "stream",
     "text": [
      "Fa_Co_Bi_4_1x\n"
     ]
    },
    {
     "data": {
      "image/png": "[encoded data removed]",
      "text/plain": [
       "<Figure size 640x480 with 1 Axes>"
      ]
     },
     "metadata": {},
     "output_type": "display_data"
    },
    {
     "name": "stdout",
     "output_type": "stream",
     "text": [
      "\n",
      "\n"
     ]
    }
   ],
   "source": [
    "for i in range(len(list(pv_xrd_for_testing.keys()))):\n",
    "    print(list(pv_xrd_for_testing.keys())[i])\n",
    "    plt.plot(pv_xrd_for_testing[list(pv_xrd_for_testing.keys())[i]][0].numpy())\n",
    "    plt.show()\n",
    "    print(\"\\n\")"
   ]
  },
  {
   "cell_type": "code",
   "execution_count": 35,
   "metadata": {},
   "outputs": [],
   "source": [
    "final_directory = \"/home/gridsan/tmackey/cdvae/data/CoBi\""
   ]
  },
  {
   "cell_type": "code",
   "execution_count": 36,
   "metadata": {},
   "outputs": [],
   "source": [
    "#save pv_xrds to /home/gridsan/tmackey/cdvae/data/Freedman_lab_full_subtraction as test_pv_xrd.pt\n",
    "torch.save(pv_xrd_for_testing, os.path.join(final_directory, \"test_pv_xrd.pt\"))\n",
    "\n",
    "#save df to /home/gridsan/tmackey/cdvae/data/Freedman_lab_full_subtraction as test.csv\n",
    "df.to_csv(os.path.join(final_directory, \"test.csv\"))"
   ]
  },
  {
   "cell_type": "code",
   "execution_count": 37,
   "metadata": {},
   "outputs": [
    {
     "name": "stderr",
     "output_type": "stream",
     "text": [
      "100%|██████████| 1/1 [00:00<00:00, 179.97it/s]\n",
      "100%|██████████| 1/1 [00:00<00:00,  5.74it/s]\n"
     ]
    }
   ],
   "source": [
    "unknown_utils.generate_and_save_graphs(final_directory)"
   ]
  },
  {
   "cell_type": "code",
   "execution_count": null,
   "metadata": {},
   "outputs": [],
   "source": []
  }
 ],
 "metadata": {
  "kernelspec": {
   "display_name": "cdvae",
   "language": "python",
   "name": "python3"
  },
  "language_info": {
   "codemirror_mode": {
    "name": "ipython",
    "version": 3
   },
   "file_extension": ".py",
   "mimetype": "text/x-python",
   "name": "python",
   "nbconvert_exporter": "python",
   "pygments_lexer": "ipython3",
   "version": "3.8.17"
  }
 },
 "nbformat": 4,
 "nbformat_minor": 2
}
